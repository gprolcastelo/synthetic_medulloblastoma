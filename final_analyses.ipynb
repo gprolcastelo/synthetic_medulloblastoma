{
 "cells": [
  {
   "cell_type": "code",
   "id": "initial_id",
   "metadata": {},
   "source": [
    "import pandas as pd"
   ],
   "outputs": [],
   "execution_count": null
  },
  {
   "cell_type": "code",
   "id": "cead0938361a8024",
   "metadata": {},
   "source": [
    "augmented_inbetween = pd.read_csv('data/interim/20241105_data_augmentation/augmented_data.csv',index_col=0)\n",
    "augmented_inbetween_meta = pd.read_csv('data/interim/20241105_data_augmentation/augmented_clinical.csv',index_col=0)\n",
    "print(augmented_inbetween.shape, augmented_inbetween_meta.shape)"
   ],
   "outputs": [],
   "execution_count": null
  },
  {
   "cell_type": "code",
   "id": "c627f5a44484c95a",
   "metadata": {},
   "source": [
    "augmented_inbetween_meta.value_counts()"
   ],
   "outputs": [],
   "execution_count": null
  },
  {
   "cell_type": "code",
   "id": "1942696419ab4d42",
   "metadata": {},
   "source": [
    "augmented_g3 = pd.read_csv('data/interim/20241105_data_augmentation/group3/augmented_data.csv',index_col=0)\n",
    "augmented_g3_meta = pd.read_csv('data/interim/20241105_data_augmentation/group3/augmented_clinical.csv',index_col=0)\n",
    "print(augmented_g3.shape, augmented_g3_meta.shape)"
   ],
   "outputs": [],
   "execution_count": null
  },
  {
   "cell_type": "code",
   "id": "52ce078a11e775a6",
   "metadata": {},
   "source": [
    "augmented_g3_meta.value_counts()"
   ],
   "outputs": [],
   "execution_count": null
  },
  {
   "cell_type": "code",
   "id": "7affdc365976497b",
   "metadata": {},
   "source": [
    "augmented_g4 = pd.read_csv('data/interim/20241105_data_augmentation/group4/augmented_data.csv',index_col=0)\n",
    "augmented_g4_meta = pd.read_csv('data/interim/20241105_data_augmentation/group4/augmented_clinical.csv',index_col=0)\n",
    "print(augmented_g4.shape, augmented_g4_meta.shape)"
   ],
   "outputs": [],
   "execution_count": null
  },
  {
   "cell_type": "code",
   "id": "4466d5272c53b1d4",
   "metadata": {},
   "source": [
    "augmented_g4_meta.value_counts()"
   ],
   "outputs": [],
   "execution_count": null
  },
  {
   "cell_type": "code",
   "id": "9fc2c8fd8e7b7e61",
   "metadata": {},
   "source": [
    "cavalli_from_geoquery = pd.read_csv('data/raw/cavalli_from_geoquery.csv',index_col=0)\n",
    "cavalli_from_geoquery_meta = pd.read_csv('data/raw/cavalli_from_geoquery_metadata.csv',index_col=0)\n",
    "print(cavalli_from_geoquery.shape, cavalli_from_geoquery_meta.shape)"
   ],
   "outputs": [],
   "execution_count": null
  },
  {
   "cell_type": "markdown",
   "id": "99d09f1f29353181",
   "metadata": {},
   "source": [
    "# Consensus Clustering Results"
   ]
  },
  {
   "cell_type": "code",
   "id": "40aad24d35f9f051",
   "metadata": {},
   "source": [
    "import os\n",
    "import pandas as pd\n",
    "from src.visualization.visualize import plot_umap"
   ],
   "outputs": [],
   "execution_count": null
  },
  {
   "cell_type": "code",
   "id": "e701d3e1a0416669",
   "metadata": {},
   "source": [
    "def load_data(data_path,metadata_path,consensus_path):\n",
    "    data = pd.read_csv(data_path,index_col=0)\n",
    "    metadata = pd.read_csv(metadata_path,index_col=0).replace({'Group3':'Group 3','Group4':'Group 4'})\n",
    "    metadata=pd.Series(metadata.values.flatten(), index=metadata.index, name='group')\n",
    "    consensus = pd.DataFrame()\n",
    "    for k_here in range(2, 4):\n",
    "        consensus_i = pd.read_csv(os.path.join(consensus_path, f'consensusClass_k{k_here}.csv'))\n",
    "        consensus[f'k_{k_here}'] = consensus_i['x']\n",
    "    return data, metadata, consensus"
   ],
   "outputs": [],
   "execution_count": null
  },
  {
   "cell_type": "code",
   "id": "51d6a1785f9afdd1",
   "metadata": {},
   "source": [
    "def get_consensus(consensus, metadata):\n",
    "    consensus_k2 = metadata.copy()\n",
    "    consensus_k2.loc[consensus.index] = consensus['k_2']\n",
    "    consensus_k3 = metadata.copy()\n",
    "    consensus_k3.loc[consensus.index] = consensus['k_3']\n",
    "    return consensus_k2, consensus_k3"
   ],
   "outputs": [],
   "execution_count": null
  },
  {
   "cell_type": "code",
   "id": "2a62adfc613fcbad",
   "metadata": {},
   "source": [
    "def find_overlap(metadata, consensus_k2, consensus_k3):\n",
    "    # According to Cavalli, to find the overlap, they\n",
    "    # \"counted the number of samples that were initially considered to be of a particular\n",
    "    # subgroup for k=2 and moved to be in another subgroup at k=3\"\n",
    "    # For k=2, 1: Group 3, 2: Group 4\n",
    "    k2_dict = {1: 'Group 3', 2: 'Group 4'}\n",
    "    consensus_k2.replace(k2_dict, inplace=True)\n",
    "    # For k=3, 2 and 3: Group 4, 1: Group 3\n",
    "    k3_dict = {2: 'Group 4', 3: 'Group 4', 1: 'Group 3'}\n",
    "    consensus_k3.replace(k3_dict, inplace=True)\n",
    "    # Contingency table between k=2 and k=3\n",
    "    cross_tab_k2_k3=pd.crosstab(consensus_k2, consensus_k3, margins=True)\n",
    "    cross_tab_k2_k3.index.name = 'k=2'\n",
    "    cross_tab_k2_k3.columns.name = 'k=3'\n",
    "    # Get the patients that have changed group from consensus_k2_clinical to consensus_k3\n",
    "    changed_patients_k3_to_k2 = consensus_k2[consensus_k2 != consensus_k3].index\n",
    "    metadata_changed_k3_to_k2 = metadata.copy()\n",
    "    metadata_changed_k3_to_k2[changed_patients_k3_to_k2] = 'G3-G4'\n",
    "    # Get corresponding contingency table\n",
    "    original_consensus_comparison = pd.crosstab(metadata, metadata_changed_k3_to_k2, margins=True)\n",
    "    original_consensus_comparison.index.name = 'Original'\n",
    "    original_consensus_comparison.columns.name = 'ConsensusClustering'\n",
    "    return cross_tab_k2_k3, metadata_changed_k3_to_k2, original_consensus_comparison"
   ],
   "outputs": [],
   "execution_count": null
  },
  {
   "cell_type": "code",
   "id": "44bcc851c05d4cf0",
   "metadata": {},
   "source": [
    "import argparse\n",
    "parser = argparse.ArgumentParser(description='Analyze results from ConsensusCluster')\n",
    "parser.add_argument('--data_path', type=str, help='Path to the data file')\n",
    "parser.add_argument('--metadata_path', type=str, help='Path to the metadata file')\n",
    "parser.add_argument('--consensus_path', type=str, help='Path to the directory containing the ConsensusCluster results')\n",
    "parser.add_argument('--save_path', type=str, help='Path to the directory to save the results')\n",
    "parser.add_argument('--use_latent', action='store_true', help='Use the latent space instead of the original data')\n",
    "\n",
    "# Simulate args with sys.argv\n",
    "import sys\n",
    "sys.argv = [\n",
    "    'notebook',\n",
    "    '--data_path', 'data/raw/cavalli_from_geoquery.csv',\n",
    "    '--metadata_path', 'data/raw/cavalli_from_geoquery_metadata.csv',\n",
    "    '--consensus_path', 'data/processed/20241107_consensusclustering/results_real_space/km/',\n",
    "    '--save_path', 'data/interim/20241105_data_augmentation/consensus',\n",
    "    # '--use_latent'\n",
    "    ]\n",
    "args = parser.parse_args()\n",
    "print(args)"
   ],
   "outputs": [],
   "execution_count": null
  },
  {
   "cell_type": "code",
   "id": "4df55f66dbf48253",
   "metadata": {},
   "source": [
    "# Load data\n",
    "data, metadata, consensus = load_data(data_path=args.data_path,consensus_path=args.consensus_path,metadata_path=args.metadata_path)\n",
    "# Get group assignments for k=2 and k=3 from the consensus clustering results\n",
    "consensus_k2, consensus_k3 = get_consensus(consensus=consensus, metadata=metadata)\n",
    "# Plot umaps for k=2 and k=3\n",
    "dict_umap_consensus_k2 = {'SHH': '#b22222', 'WNT': '#6495ed', 1: '#ffd700', 2: '#008000'}\n",
    "dict_umap_consensus_k3 = {'SHH': '#b22222', 'WNT': '#6495ed', 1: '#ffd700', 2: '#008000', 3: '#ff69b4'}\n",
    "plot_umap(data, consensus_k2, dict_umap_consensus_k2, n_components=2,save_fig=False,\n",
    "          save_as=os.path.join(args.save_path, 'k2_latent' if args.use_latent else 'k2_noprepro'),\n",
    "          seed=2023, title=None,show=False)\n",
    "plot_umap(data, consensus_k3, dict_umap_consensus_k3, n_components=2, save_fig=False,\n",
    "          save_as=os.path.join(args.save_path, 'k3_latent' if args.use_latent else 'k3_noprepro'),\n",
    "          seed=2023, title=None,show=False)"
   ],
   "outputs": [],
   "execution_count": null
  },
  {
   "cell_type": "code",
   "id": "7e3c1546f3910d6f",
   "metadata": {},
   "source": [
    "consensus_k2.value_counts()"
   ],
   "outputs": [],
   "execution_count": null
  },
  {
   "cell_type": "code",
   "id": "21ecb309b598c259",
   "metadata": {},
   "source": [
    "consensus_k3.value_counts()"
   ],
   "outputs": [],
   "execution_count": null
  },
  {
   "cell_type": "code",
   "id": "92e2e1ce653f2dd4",
   "metadata": {},
   "source": [
    "# Find overlap between k=2 and k=3\n",
    "# if args.use_latent:\n",
    "cross_tab_k2_k3, metadata_changed_k3_to_k2, original_consensus_comparison = find_overlap(\n",
    "    metadata=metadata, consensus_k2=consensus_k2, consensus_k3=consensus_k3)\n",
    "#     cross_tab_k2_k3.to_csv(os.path.join(args.save_path, 'contingency_k2_k3.csv'))\n",
    "#     cross_tab_k2_k3.to_latex(os.path.join(args.save_path, 'contingency_k2_k3.tex'))\n",
    "#     original_consensus_comparison.to_csv(os.path.join(args.save_path, 'original_consensus_comparison.csv'))\n",
    "#     original_consensus_comparison.to_latex(os.path.join(args.save_path, 'original_consensus_comparison.tex'))\n",
    "#     metadata_changed_k3_to_k2.to_csv(os.path.join(args.save_path, 'metadata_changed_k3_to_k2.csv'))\n",
    "#     # Plot umap with In between groups:\n",
    "dict_umap = {'SHH': '#b22222', 'WNT': '#6495ed', 'Group 3': '#ffd700', 'Group 4': '#008000', 'G3-G4': '#db7093'}\n",
    "plot_umap(data, metadata_changed_k3_to_k2, dict_umap, n_components=2, save_fig=False,\n",
    "          save_as=os.path.join(args.save_path, 'k3_to_k2_latent' if args.use_latent else 'k3_to_k2_noprepro'),\n",
    "          seed=2023, title=None,show=False)"
   ],
   "outputs": [],
   "execution_count": null
  },
  {
   "cell_type": "code",
   "id": "47263438a45b91dd",
   "metadata": {},
   "source": [
    "metadata.value_counts()"
   ],
   "outputs": [],
   "execution_count": null
  },
  {
   "cell_type": "code",
   "id": "b0d3f336eb952fe3",
   "metadata": {},
   "source": [
    "cross_tab_k2_k3"
   ],
   "outputs": [],
   "execution_count": null
  },
  {
   "cell_type": "code",
   "id": "5381b45c3371745b",
   "metadata": {},
   "source": [
    "metadata_changed_k3_to_k2.value_counts()"
   ],
   "outputs": [],
   "execution_count": null
  },
  {
   "cell_type": "code",
   "id": "4a2604a3128268a4",
   "metadata": {},
   "source": [
    "original_consensus_comparison"
   ],
   "outputs": [],
   "execution_count": null
  },
  {
   "cell_type": "markdown",
   "id": "83bfa74a95516bf",
   "metadata": {},
   "source": [
    "# kNN bootstrap results"
   ]
  },
  {
   "cell_type": "code",
   "id": "cd348191a7c1ce7c",
   "metadata": {},
   "source": [
    "import pandas as pd\n",
    "from src.visualization.visualize import plot_umap"
   ],
   "outputs": [],
   "execution_count": null
  },
  {
   "cell_type": "code",
   "id": "1010984fb9c5ff3",
   "metadata": {},
   "source": [
    "# Load data\n",
    "data = pd.read_csv('data/interim/20241115_preprocessing/cavalli_maha.csv', index_col=0)\n",
    "metadata = pd.read_csv('data/processed/20241115_knn_bootstrap/metadata_after_bootstrap.csv', index_col=0).squeeze()\n",
    "data.shape, metadata.shape"
   ],
   "outputs": [],
   "execution_count": null
  },
  {
   "cell_type": "code",
   "id": "68995c34f3a28690",
   "metadata": {},
   "source": [
    "# save_path = 'data/processed/20241115_knn_bootstrap/knn_bootstrapping/preprocessed_umap/'\n",
    "# os.makedirs(save_path, exist_ok=True)"
   ],
   "outputs": [],
   "execution_count": null
  },
  {
   "cell_type": "code",
   "id": "8a549671f7c8e23c",
   "metadata": {},
   "source": [
    "metadata.value_counts()"
   ],
   "outputs": [],
   "execution_count": null
  },
  {
   "cell_type": "code",
   "id": "5bd9300253ab6171",
   "metadata": {},
   "source": [
    "dict_umap = {'SHH': '#b22222',\n",
    "                 'WNT': '#6495ed',\n",
    "                 'Group 3': '#ffd700',\n",
    "                 'Group 4': '#008000',\n",
    "                 'G3-G4': '#db7093'}"
   ],
   "outputs": [],
   "execution_count": null
  },
  {
   "cell_type": "code",
   "id": "e79df74a5884779f",
   "metadata": {},
   "source": [
    "plot_umap(data=data.loc[metadata.index],\n",
    "          clinical=metadata,\n",
    "          colors_dict=dict_umap,\n",
    "          save_fig=False,\n",
    "          save_as=None,\n",
    "          seed=2023,\n",
    "          show=True\n",
    "          )"
   ],
   "outputs": [],
   "execution_count": null
  },
  {
   "cell_type": "markdown",
   "id": "af5aa031cb1d3e1d",
   "metadata": {},
   "source": [
    "# Data augmentation UMAP"
   ]
  },
  {
   "cell_type": "code",
   "id": "c45b585d-1a1a-4d99-871a-d80c31db636c",
   "metadata": {},
   "source": [
    "import os\n",
    "os.environ['NUMEXPR_MAX_THREADS'] = '112'"
   ],
   "outputs": [],
   "execution_count": null
  },
  {
   "cell_type": "code",
   "id": "a9d976dc847fee52",
   "metadata": {},
   "source": [
    "import pandas as pd\n",
    "from src.visualization.visualize import plot_umap"
   ],
   "outputs": [],
   "execution_count": null
  },
  {
   "cell_type": "code",
   "id": "a5f3d63ffb091414",
   "metadata": {},
   "source": [
    "augmented_data = pd.read_csv('data/interim/20241115_data_augmentation/real/augmented_data.csv',index_col=0)\n",
    "augmented_clinical = pd.read_csv('data/interim/20241115_data_augmentation/real/augmented_clinical.csv',index_col=0).squeeze()\n",
    "print(augmented_data.shape, augmented_clinical.shape)"
   ],
   "outputs": [],
   "execution_count": null
  },
  {
   "cell_type": "code",
   "id": "958f81149643b9",
   "metadata": {},
   "source": [
    "augmented_clinical.replace({'synthetic_Group 3':'Synthetic Group 3','synthetic_Group 4':'Synthetic Group 4','synthetic_G3-G4':'Synthetic G3-G4'},inplace=True)"
   ],
   "outputs": [],
   "execution_count": null
  },
  {
   "cell_type": "code",
   "id": "23db99e7",
   "metadata": {},
   "source": [
    "augmented_clinical.value_counts()"
   ],
   "outputs": [],
   "execution_count": null
  },
  {
   "cell_type": "code",
   "id": "d0a3d0d9",
   "metadata": {},
   "source": [
    "dict_umap = {\n",
    "    # 'SHH': '#b22222', \n",
    "    # 'WNT': '#6495ed', \n",
    "    'Group 3': '#ffd700', \n",
    "    'Group 4': '#008000', \n",
    "    'G3-G4': '#db7093',\n",
    "    'Synthetic Group 3': '#917b00',\n",
    "    'Synthetic Group 4': '#014401',\n",
    "    'Synthetic G3-G4': '#84445a'\n",
    "}"
   ],
   "outputs": [],
   "execution_count": null
  },
  {
   "cell_type": "code",
   "id": "8c217b72aa26978a",
   "metadata": {},
   "source": [
    "# Remove SHH and WNT patients:\n",
    "clinical_umap = augmented_clinical[~augmented_clinical.isin(['SHH','WNT'])]\n",
    "data_umap = augmented_data.loc[clinical_umap.index]\n",
    "print(data_umap.shape, clinical_umap.shape)"
   ],
   "outputs": [],
   "execution_count": null
  },
  {
   "cell_type": "code",
   "id": "d38a55f5",
   "metadata": {},
   "source": [
    "os.makedirs('reports/figures/20241115_umap_augmented',exist_ok=True)\n",
    "plot_umap(\n",
    "    data=data_umap,\n",
    "    clinical=clinical_umap,\n",
    "    colors_dict=dict_umap,\n",
    "    n_components=2,\n",
    "    save_fig=True,\n",
    "    save_as='reports/figures/20241115_umap_augmented/umap',\n",
    "    seed=2023,\n",
    "    title=None,\n",
    "    show=True,\n",
    ")"
   ],
   "outputs": [],
   "execution_count": null
  },
  {
   "cell_type": "markdown",
   "id": "4e4a28da871eb2ab",
   "metadata": {},
   "source": [
    "# Classification"
   ]
  },
  {
   "cell_type": "code",
   "id": "041a59d3-fd69-4feb-b078-48ba92092558",
   "metadata": {},
   "source": [
    "import os\n",
    "os.environ['NUMEXPR_MAX_THREADS'] = '112'"
   ],
   "outputs": [],
   "execution_count": null
  },
  {
   "cell_type": "code",
   "id": "553ee9cc1bb612dc",
   "metadata": {},
   "source": [
    "from src.data_processing.classification import classification_benchmark\n",
    "import numpy as np\n",
    "from tqdm import tqdm\n",
    "from matplotlib import colormaps\n",
    "import matplotlib.pyplot as plt\n",
    "plt.style.use('ggplot')\n",
    "import pandas as pd\n"
   ],
   "outputs": [],
   "execution_count": null
  },
  {
   "cell_type": "code",
   "id": "c3b70ad295f70b81",
   "metadata": {},
   "source": [
    "save_dir = 'reports/figures/20241115_classification_notebook'\n",
    "os.makedirs(save_dir,exist_ok=True)"
   ],
   "outputs": [],
   "execution_count": null
  },
  {
   "cell_type": "code",
   "id": "0b20c204-e625-4f88-837c-c98c2069b085",
   "metadata": {},
   "source": [
    "augmented_data = pd.read_csv('data/interim/20241115_data_augmentation/real/augmented_data.csv',index_col=0)\n",
    "augmented_clinical = pd.read_csv('data/interim/20241115_data_augmentation/real/augmented_clinical.csv',index_col=0).squeeze()\n",
    "print(augmented_data.shape, augmented_clinical.shape)"
   ],
   "outputs": [],
   "execution_count": null
  },
  {
   "cell_type": "markdown",
   "id": "800cf86dc7d8bb51",
   "metadata": {},
   "source": [
    "## Classification of real patients"
   ]
  },
  {
   "cell_type": "code",
   "id": "24edeebd48e44599",
   "metadata": {},
   "source": [
    "save_dir_i = os.path.join(save_dir,'real_g3g4')\n",
    "os.makedirs(save_dir_i,exist_ok=True)"
   ],
   "outputs": [],
   "execution_count": null
  },
  {
   "cell_type": "code",
   "id": "6e580c39260b67fc",
   "metadata": {},
   "source": [
    "# import original data, after preprocessing\n",
    "data = pd.read_csv('data/interim/20241115_preprocessing/cavalli_maha.csv', index_col=0)\n",
    "metadata = pd.read_csv('data/raw/GEO/cavalli_subgroups.csv', index_col=0).squeeze()\n",
    "print(data.shape, metadata.shape)\n",
    "print(metadata.value_counts())"
   ],
   "outputs": [],
   "execution_count": null
  },
  {
   "cell_type": "code",
   "id": "1c19abf350741456",
   "metadata": {},
   "source": [
    "# Select data for classification\n",
    "num_classes = 2\n",
    "clinical_classification = metadata[metadata.isin(['Group3','Group4'])]\n",
    "data_classification = data.loc[clinical_classification.index]\n",
    "print(data_classification.shape, clinical_classification.shape)\n",
    "print(clinical_classification.value_counts())"
   ],
   "outputs": [],
   "execution_count": null
  },
  {
   "cell_type": "code",
   "id": "7d1ca126615c80d9",
   "metadata": {
    "scrolled": true
   },
   "source": [
    "# Classification on weighted data with different seeds\n",
    "seeds = np.random.randint(0, 1e9, 10)\n",
    "metrics_list = []\n",
    "for seed_i in tqdm(seeds):\n",
    "    weighted_classification = classification_benchmark(\n",
    "        X_data=data_classification,\n",
    "        y_data=clinical_classification,\n",
    "        classification_type='weighted',\n",
    "        num_classes=num_classes,\n",
    "        seed=seed_i,\n",
    "        test_size=0.2,\n",
    "        n_br=100,\n",
    "        num_threads=112,\n",
    "        n_trials=100,\n",
    "        )\n",
    "    (model_weights, metrics_weights, y_test_le, y_pred_weights, data_weights, weighted_params) = weighted_classification\n",
    "    metrics_list.append(metrics_weights)\n",
    "    metrics_weights.to_csv(os.path.join(save_dir_i,f'metrics_weights_seed_{seed_i}.csv'))"
   ],
   "outputs": [],
   "execution_count": null
  },
  {
   "cell_type": "code",
   "id": "c6ca79b871b4426e",
   "metadata": {},
   "source": [
    "# Plot mean of metrics\n",
    "metrics_list = np.array(metrics_list)\n",
    "mean_metrics = np.median(metrics_list,axis=0)\n",
    "std_metrics = np.std(metrics_list,axis=0)\n",
    "legend_labels = metrics_weights.columns\n",
    "cmap = 'Pastel2'\n",
    "colors = colormaps[cmap](np.linspace(0, 1, 7))\n",
    "plt.figure(figsize=(9, 7))\n",
    "bp=plt.boxplot(metrics_list[:,0], labels=metrics_weights.columns, patch_artist=True)\n",
    "# Rotate the x-axis labels\n",
    "plt.xticks(rotation=45,fontsize=14)\n",
    "plt.yticks(fontsize=14)\n",
    "plt.ylim([0.,1.05])\n",
    "plt.xlabel('Score',fontsize=16)\n",
    "plt.title('Real Group 3 and Group 4',fontsize=18)\n",
    "# Add legend\n",
    "# Create a legend\n",
    "# legend_labels = ['Accuracy', 'Balanced accuracy', 'F1 score', 'Precision', 'Recall', 'ROC AUC', 'PR AUC']\n",
    "# Set the colors\n",
    "for patch, color in zip(bp['boxes'], colors):\n",
    "    patch.set_facecolor(color)\n",
    "for median in bp['medians']:\n",
    "    median.set(color='navy', linewidth=2)\n",
    "\n",
    "# legend_handles = [mpatches.Patch(color=colors[i], label=legend_labels[i]) for i in range(len(legend_labels))]\n",
    "# plt.legend(handles=legend_handles, bbox_to_anchor=(1.05, 1), loc='upper left')\n",
    "plt.savefig(os.path.join(save_dir_i,'groups3_and_4_real_recspace_mean_metrics_boxplot.png'),bbox_inches='tight',dpi=600,format='png')\n",
    "plt.savefig(os.path.join(save_dir_i,'groups3_and_4_real_recspace_mean_metrics_boxplot.svg'),bbox_inches='tight',format='svg')\n",
    "plt.savefig(os.path.join(save_dir_i,'groups3_and_4_real_recspace_mean_metrics_boxplot.pdf'),bbox_inches='tight',format='pdf')\n",
    "plt.show()"
   ],
   "outputs": [],
   "execution_count": null
  },
  {
   "cell_type": "markdown",
   "id": "d1bf43db3db68a4b",
   "metadata": {},
   "source": [
    "## Classification of real patients, including G3-G4 group"
   ]
  },
  {
   "cell_type": "code",
   "id": "103e46af26cd59a5",
   "metadata": {},
   "source": [
    "save_dir_i = os.path.join(save_dir,'real_g3g4g3-g4')\n",
    "os.makedirs(save_dir_i,exist_ok=True)"
   ],
   "outputs": [],
   "execution_count": null
  },
  {
   "cell_type": "code",
   "id": "3feb3c32d98023fb",
   "metadata": {},
   "source": [
    "# Select data for classification\n",
    "num_classes = 3\n",
    "clinical_classification = augmented_clinical[augmented_clinical.isin(['Group 3','Group 4','G3-G4'])]\n",
    "data_classification = data.loc[clinical_classification.index]\n",
    "print(clinical_classification.shape, data_classification.shape)\n",
    "print(clinical_classification.value_counts())"
   ],
   "outputs": [],
   "execution_count": null
  },
  {
   "cell_type": "code",
   "id": "93ce714d7c038f94",
   "metadata": {
    "scrolled": true
   },
   "source": [
    "# Classification on weighted data with different seeds\n",
    "seeds = np.random.randint(0, 1e9, 10)\n",
    "metrics_list = []\n",
    "for seed_i in tqdm(seeds):\n",
    "    weighted_classification = classification_benchmark(\n",
    "        X_data=data_classification,\n",
    "        y_data=clinical_classification,\n",
    "        classification_type='weighted',\n",
    "        num_classes=num_classes,\n",
    "        seed=seed_i,\n",
    "        test_size=0.2,\n",
    "        n_br=100,\n",
    "        num_threads=4,\n",
    "        n_trials=100,\n",
    "        )\n",
    "    (model_weights, metrics_weights, y_test_le, y_pred_weights, data_weights, weighted_params) = weighted_classification\n",
    "    metrics_list.append(metrics_weights)\n",
    "    metrics_weights.to_csv(os.path.join(save_dir_i,f'metrics_weights_seed_{seed_i}.csv'))"
   ],
   "outputs": [],
   "execution_count": null
  },
  {
   "cell_type": "code",
   "id": "65d18fe9fcca4cac",
   "metadata": {},
   "source": [
    "# Plot mean of metrics\n",
    "metrics_list = np.array(metrics_list)\n",
    "mean_metrics = np.mean(metrics_list,axis=0)\n",
    "std_metrics = np.std(metrics_list,axis=0)\n",
    "legend_labels = metrics_weights.columns\n",
    "cmap = 'Pastel2'\n",
    "colors = colormaps[cmap](np.linspace(0, 1, 7))\n",
    "plt.figure(figsize=(9, 7))\n",
    "bp=plt.boxplot(metrics_list[:,0], labels=metrics_weights.columns, patch_artist=True)\n",
    "# Rotate the x-axis labels\n",
    "plt.xticks(rotation=45,fontsize=14)\n",
    "plt.yticks(fontsize=14)\n",
    "plt.ylim([0.,1.05])\n",
    "plt.xlabel('Score',fontsize=16)\n",
    "plt.title('Real Group 3, Group 4, and G3-G4',fontsize=18)\n",
    "# Add legend\n",
    "# Create a legend\n",
    "# legend_labels = ['Accuracy', 'Balanced accuracy', 'F1 score', 'Precision', 'Recall', 'ROC AUC', 'PR AUC']\n",
    "# Set the colors\n",
    "for patch, color in zip(bp['boxes'], colors):\n",
    "    patch.set_facecolor(color)\n",
    "for median in bp['medians']:\n",
    "    median.set(color='navy', linewidth=2)\n",
    "# legend_handles = [mpatches.Patch(color=colors[i], label=legend_labels[i]) for i in range(len(legend_labels))]\n",
    "# plt.legend(handles=legend_handles, bbox_to_anchor=(1.05, 1), loc='upper left')\n",
    "plt.savefig(os.path.join(save_dir_i,'groups_3_4_inbetween_real_recspace_mean_metrics_boxplot.png'),bbox_inches='tight',dpi=600,format='png')\n",
    "plt.savefig(os.path.join(save_dir_i,'groups_3_4_inbetween_real_recspace_mean_metrics_boxplot.svg'),bbox_inches='tight',format='svg')\n",
    "plt.savefig(os.path.join(save_dir_i,'groups_3_4_inbetween_real_recspace_mean_metrics_boxplot.pdf'),bbox_inches='tight',format='pdf')\n",
    "plt.show()"
   ],
   "outputs": [],
   "execution_count": null
  },
  {
   "cell_type": "markdown",
   "id": "79f02b3e-310c-4d4c-b60c-87c14b994faf",
   "metadata": {},
   "source": [
    "## Classification of synthetic G3 and G4"
   ]
  },
  {
   "cell_type": "code",
   "id": "771717310427c9f4",
   "metadata": {},
   "source": [
    "save_dir_i = os.path.join(save_dir,'synth_g3g4')\n",
    "os.makedirs(save_dir_i,exist_ok=True)"
   ],
   "outputs": [],
   "execution_count": null
  },
  {
   "cell_type": "code",
   "id": "ad0deeefc8913861",
   "metadata": {},
   "source": [
    "augmented_clinical.value_counts()"
   ],
   "outputs": [],
   "execution_count": null
  },
  {
   "cell_type": "code",
   "id": "507de573827a12f0",
   "metadata": {},
   "source": [
    "# Select data for classification\n",
    "num_classes = 2\n",
    "clinical_classification = augmented_clinical[augmented_clinical.isin(['synthetic_Group 3','synthetic_Group 4'])]\n",
    "data_classification = augmented_data.loc[clinical_classification.index]\n",
    "print(clinical_classification.shape, data_classification.shape)\n",
    "print(clinical_classification.value_counts())"
   ],
   "outputs": [],
   "execution_count": null
  },
  {
   "cell_type": "code",
   "id": "ff66d90cb48bc881",
   "metadata": {
    "scrolled": true
   },
   "source": [
    "# Classification on weighted data with different seeds\n",
    "seeds = np.random.randint(0, 1e9, 10)\n",
    "metrics_list = []\n",
    "for seed_i in tqdm(seeds):\n",
    "    weighted_classification = classification_benchmark(\n",
    "        X_data=data_classification,\n",
    "        y_data=clinical_classification,\n",
    "        classification_type='weighted',\n",
    "        num_classes=num_classes,\n",
    "        seed=seed_i,\n",
    "        test_size=0.2,\n",
    "        n_br=100,\n",
    "        num_threads=112,\n",
    "        n_trials=100,\n",
    "        )\n",
    "    (model_weights, metrics_weights, y_test_le, y_pred_weights, data_weights, weighted_params) = weighted_classification\n",
    "    metrics_list.append(metrics_weights)\n",
    "    metrics_weights.to_csv(os.path.join(save_dir_i,f'metrics_weights_seed_{seed_i}.csv'))"
   ],
   "outputs": [],
   "execution_count": null
  },
  {
   "cell_type": "code",
   "id": "2bac444684ad1103",
   "metadata": {},
   "source": [
    "# Plot mean of metrics\n",
    "metrics_list = np.array(metrics_list)\n",
    "mean_metrics = np.mean(metrics_list,axis=0)\n",
    "std_metrics = np.std(metrics_list,axis=0)\n",
    "legend_labels = metrics_weights.columns\n",
    "cmap = 'Pastel2'\n",
    "colors = colormaps[cmap](np.linspace(0, 1, 7))\n",
    "plt.figure(figsize=(9, 7))\n",
    "bp=plt.boxplot(metrics_list[:,0], labels=metrics_weights.columns, patch_artist=True)\n",
    "# Rotate the x-axis labels\n",
    "plt.xticks(rotation=45,fontsize=14)\n",
    "plt.yticks(fontsize=14)\n",
    "plt.ylim([0.,1.05])\n",
    "plt.xlabel('Score',fontsize=16)\n",
    "plt.title('Synthetic Group 3 and Group 4',fontsize=18)\n",
    "# Add legend\n",
    "# Create a legend\n",
    "# legend_labels = ['Accuracy', 'Balanced accuracy', 'F1 score', 'Precision', 'Recall', 'ROC AUC', 'PR AUC']\n",
    "# Set the colors\n",
    "for patch, color in zip(bp['boxes'], colors):\n",
    "    patch.set_facecolor(color)\n",
    "for median in bp['medians']:\n",
    "    median.set(color='navy', linewidth=2)\n",
    "# legend_handles = [mpatches.Patch(color=colors[i], label=legend_labels[i]) for i in range(len(legend_labels))]\n",
    "# plt.legend(handles=legend_handles, bbox_to_anchor=(1.05, 1), loc='upper left')\n",
    "plt.savefig(os.path.join(save_dir_i,'groups_3_4_synth_recspace_mean_metrics_boxplot.png'),bbox_inches='tight',dpi=600,format='png')\n",
    "plt.savefig(os.path.join(save_dir_i,'groups_3_4_synth_recspace_mean_metrics_boxplot.svg'),bbox_inches='tight',format='svg')\n",
    "plt.savefig(os.path.join(save_dir_i,'groups_3_4_synth_recspace_mean_metrics_boxplot.pdf'),bbox_inches='tight',format='pdf')\n",
    "plt.show()"
   ],
   "outputs": [],
   "execution_count": null
  },
  {
   "cell_type": "code",
   "id": "d3a87760b1701f82",
   "metadata": {},
   "source": [],
   "outputs": [],
   "execution_count": null
  },
  {
   "cell_type": "markdown",
   "id": "59cf91963e1d114e",
   "metadata": {},
   "source": [
    "## Classification of synthetic G3, G4, and G3-G4"
   ]
  },
  {
   "cell_type": "code",
   "id": "d6ce11a2e65b790c",
   "metadata": {},
   "source": [
    "save_dir_i = os.path.join(save_dir,'synth_g3g4g3-g4')\n",
    "os.makedirs(save_dir_i,exist_ok=True)"
   ],
   "outputs": [],
   "execution_count": null
  },
  {
   "cell_type": "code",
   "id": "301015daa311e9a1",
   "metadata": {},
   "source": [
    "augmented_clinical.value_counts()"
   ],
   "outputs": [],
   "execution_count": null
  },
  {
   "cell_type": "code",
   "id": "8667c9fa3fe72430",
   "metadata": {},
   "source": [
    "# Select data for classification\n",
    "num_classes = 3\n",
    "clinical_classification = augmented_clinical[augmented_clinical.isin(['synthetic_Group 3','synthetic_Group 4','synthetic_G3-G4'])]\n",
    "data_classification = augmented_data.loc[clinical_classification.index]\n",
    "print(clinical_classification.shape, data_classification.shape)\n",
    "print(clinical_classification.value_counts())"
   ],
   "outputs": [],
   "execution_count": null
  },
  {
   "cell_type": "code",
   "id": "a2b6874bc45040bb",
   "metadata": {
    "scrolled": true
   },
   "source": [
    "# Classification on weighted data with different seeds\n",
    "seeds = np.random.randint(0, 1e9, 10)\n",
    "metrics_list = []\n",
    "for seed_i in tqdm(seeds):\n",
    "    weighted_classification = classification_benchmark(\n",
    "        X_data=data_classification,\n",
    "        y_data=clinical_classification,\n",
    "        classification_type='weighted',\n",
    "        num_classes=num_classes,\n",
    "        seed=seed_i,\n",
    "        test_size=0.2,\n",
    "        n_br=100,\n",
    "        num_threads=112,\n",
    "        n_trials=100,\n",
    "        )\n",
    "    (model_weights, metrics_weights, y_test_le, y_pred_weights, data_weights, weighted_params) = weighted_classification\n",
    "    metrics_list.append(metrics_weights)\n",
    "    metrics_weights.to_csv(os.path.join(save_dir_i,f'metrics_weights_seed_{seed_i}.csv'))"
   ],
   "outputs": [],
   "execution_count": null
  },
  {
   "cell_type": "code",
   "id": "4900fdaad57c9aec",
   "metadata": {},
   "source": [
    "# Plot mean of metrics\n",
    "metrics_list = np.array(metrics_list)\n",
    "mean_metrics = np.mean(metrics_list,axis=0)\n",
    "std_metrics = np.std(metrics_list,axis=0)\n",
    "legend_labels = metrics_weights.columns\n",
    "cmap = 'Pastel2'\n",
    "colors = colormaps[cmap](np.linspace(0, 1, 7))\n",
    "plt.figure(figsize=(9, 7))\n",
    "bp=plt.boxplot(metrics_list[:,0], labels=metrics_weights.columns, patch_artist=True)\n",
    "# Rotate the x-axis labels\n",
    "plt.xticks(rotation=45,fontsize=14)\n",
    "plt.yticks(fontsize=14)\n",
    "plt.ylim([0.,1.05])\n",
    "plt.xlabel('Score',fontsize=16)\n",
    "plt.title('Synthetic Group 3, Group 4, and G3-G4', fontsize=18)\n",
    "# Add legend\n",
    "# Create a legend\n",
    "# legend_labels = ['Accuracy', 'Balanced accuracy', 'F1 score', 'Precision', 'Recall', 'ROC AUC', 'PR AUC']\n",
    "# Set the colors\n",
    "for patch, color in zip(bp['boxes'], colors):\n",
    "    patch.set_facecolor(color)\n",
    "for median in bp['medians']:\n",
    "    median.set(color='navy', linewidth=2)\n",
    "# legend_handles = [mpatches.Patch(color=colors[i], label=legend_labels[i]) for i in range(len(legend_labels))]\n",
    "# plt.legend(handles=legend_handles, bbox_to_anchor=(1.05, 1), loc='upper left')\n",
    "plt.savefig(os.path.join(save_dir_i,'groups_3_4_G3G4_synth_recspace_mean_metrics_boxplot.png'),bbox_inches='tight',dpi=600,format='png')\n",
    "plt.savefig(os.path.join(save_dir_i,'groups_3_4_G3G4_synth_recspace_mean_metrics_boxplot.svg'),bbox_inches='tight',format='svg')\n",
    "plt.savefig(os.path.join(save_dir_i,'groups_3_4_G3G4_synth_recspace_mean_metrics_boxplot.pdf'),bbox_inches='tight',format='pdf')\n",
    "plt.show()"
   ],
   "outputs": [],
   "execution_count": null
  },
  {
   "metadata": {},
   "cell_type": "markdown",
   "source": "# Getting Medians of classification metrics",
   "id": "8fd5f6677d9d308f"
  },
  {
   "metadata": {
    "jupyter": {
     "is_executing": true
    }
   },
   "cell_type": "code",
   "source": [
    "import os\n",
    "os.environ['NUMEXPR_MAX_THREADS'] = '112'\n",
    "import pandas as pd"
   ],
   "id": "5809ffafc8cdbe6e",
   "outputs": [],
   "execution_count": null
  },
  {
   "metadata": {},
   "cell_type": "code",
   "source": [
    "def list_metrics_seed_files(folder_path):\n",
    "    # List all files in the given folder\n",
    "    all_files = os.listdir(folder_path)\n",
    "    # Filter files that start with 'metrics_seed'\n",
    "    metrics_seed_files = [f for f in all_files if f.startswith('metrics_seed') or f.startswith('metrics_weights_seed')]\n",
    "    return metrics_seed_files"
   ],
   "id": "a49c3b2973953569",
   "outputs": [],
   "execution_count": null
  },
  {
   "metadata": {},
   "cell_type": "code",
   "source": [
    "# Example usage\n",
    "folder_path = 'reports/figures/20241115_classification_original/'\n",
    "metrics_seed_files = list_metrics_seed_files(folder_path)\n",
    "print(len(metrics_seed_files))"
   ],
   "id": "833e958acda9f015",
   "outputs": [],
   "execution_count": null
  },
  {
   "metadata": {},
   "cell_type": "code",
   "source": [
    "# Initialize a list to store the metrics\n",
    "def all_metrics(folder_path):\n",
    "    metrics_list = []\n",
    "    # Loop through each file and append the first row to the list\n",
    "    for i, file in enumerate(metrics_seed_files):\n",
    "        metrics_seed_i = pd.read_csv(os.path.join(folder_path, file), index_col=0).iloc[0]  # All rows are the same, so get the first row\n",
    "        metrics_seed_i.name = i  # Set the index to the current iteration\n",
    "        metrics_list.append(metrics_seed_i)\n",
    "    \n",
    "    # Create a DataFrame from the list\n",
    "    all_metrics = pd.DataFrame(metrics_list)\n",
    "    \n",
    "    # Reset the index to have consecutive integers starting from 0\n",
    "    all_metrics.reset_index(drop=True, inplace=True)\n",
    "    \n",
    "    return all_metrics"
   ],
   "id": "58b9fba432564402",
   "outputs": [],
   "execution_count": null
  },
  {
   "metadata": {},
   "cell_type": "code",
   "source": "",
   "id": "7588cd06d26b7ad9",
   "outputs": [],
   "execution_count": null
  },
  {
   "metadata": {},
   "cell_type": "code",
   "source": [
    "# List of folders to analyze\n",
    "folders = [\n",
    "    '20241115_classification_original',\n",
    "    '20241115_classification_latent',\n",
    "    '20241115_classification_postprocessed',\n",
    "    '20241115_classification_notebook/real_g3g4',\n",
    "    '20241115_classification_notebook/synth_g3g4',\n",
    "    '20241115_classification_notebook/real_g3g4g3-g4',\n",
    "    '20241115_classification_notebook/synth_g3g4g3-g4',\n",
    "]"
   ],
   "id": "2be2e62ed8293f26",
   "outputs": [],
   "execution_count": null
  },
  {
   "metadata": {},
   "cell_type": "code",
   "source": [
    "medians_list = []\n",
    "for folder_i in folders:\n",
    "    folder_path = f'reports/figures/{folder_i}'\n",
    "    metrics_seed_files = list_metrics_seed_files(folder_path)\n",
    "    all_metrics_i = all_metrics(folder_path)\n",
    "    median_i=all_metrics_i.median(axis=0)\n",
    "    median_i.name=folder_i\n",
    "    medians_list.append(median_i)\n",
    "    print(folder_i, all_metrics_i.shape, median_i.shape)\n",
    "all_medians = pd.DataFrame(medians_list)"
   ],
   "id": "b29a09f8a3cf6742",
   "outputs": [],
   "execution_count": null
  },
  {
   "metadata": {},
   "cell_type": "code",
   "source": [
    "all_medians.index=[\n",
    "    'Original Data',\n",
    "    'Latent Space',\n",
    "    'Reconstructed Data',\n",
    "    'Real G3 and G4',\n",
    "    'Synthetic G3 and G4',\n",
    "    'Real G3, G4, and G3-G4',\n",
    "    'Synthetic G3, G4, and G3-G4',\n",
    "]\n",
    "all_medians.to_csv('reports/figures/20241115_classification_medians.csv')\n",
    "all_medians.to_latex('reports/figures/20241115_classification_medians.tex')"
   ],
   "id": "6f3b7725c3e33e23",
   "outputs": [],
   "execution_count": null
  },
  {
   "metadata": {},
   "cell_type": "code",
   "source": "all_medians",
   "id": "cee5a43914fca27a",
   "outputs": [],
   "execution_count": null
  },
  {
   "metadata": {},
   "cell_type": "code",
   "source": "print(all_medians.loc['Synthetic G3 and G4'])",
   "id": "7ce77039dc885711",
   "outputs": [],
   "execution_count": null
  },
  {
   "metadata": {},
   "cell_type": "code",
   "source": "print(all_medians.loc['Synthetic G3, G4, and G3-G4'])",
   "id": "6f434f4750434738",
   "outputs": [],
   "execution_count": null
  },
  {
   "metadata": {},
   "cell_type": "code",
   "source": [
    "print(all_medians.loc['Synthetic G3 and G4']-all_medians.loc['Synthetic G3, G4, and G3-G4'])\n",
    "print('Average performance loss:',(all_medians.loc['Synthetic G3 and G4']-all_medians.loc['Synthetic G3, G4, and G3-G4']).mean())"
   ],
   "id": "cd652c7491bea41",
   "outputs": [],
   "execution_count": null
  },
  {
   "cell_type": "markdown",
   "id": "abd01db22a49b447",
   "metadata": {},
   "source": "# Getting patients missclasified"
  },
  {
   "cell_type": "code",
   "id": "ab38cff7f55d2edb",
   "metadata": {},
   "source": [
    "import os\n",
    "os.environ['NUMEXPR_MAX_THREADS'] = '112'"
   ],
   "outputs": [],
   "execution_count": null
  },
  {
   "cell_type": "code",
   "id": "7297536342299e39",
   "metadata": {},
   "source": [
    "from src.data_processing.classification import classification_benchmark\n",
    "import numpy as np\n",
    "from tqdm import tqdm\n",
    "from matplotlib import colormaps\n",
    "import matplotlib.pyplot as plt\n",
    "plt.style.use('ggplot')\n",
    "import pandas as pd"
   ],
   "outputs": [],
   "execution_count": null
  },
  {
   "cell_type": "code",
   "id": "e0c7b800496a8018",
   "metadata": {},
   "source": [
    "original_data = pd.read_csv('data/raw/GEOquery/GSE85217_expression_data.csv',index_col=0).T\n",
    "original_metadata = pd.read_csv('data/raw/GEO/cavalli_subgroups.csv',index_col=0).squeeze()\n",
    "print(original_metadata.shape, original_data.shape)\n",
    "print(original_metadata.value_counts())"
   ],
   "outputs": [],
   "execution_count": null
  },
  {
   "cell_type": "code",
   "id": "ad564e0b7355f9a6",
   "metadata": {},
   "source": [
    "# Select data for classification\n",
    "num_classes = 4\n",
    "clinical_classification = original_metadata\n",
    "data_classification = original_data.loc[clinical_classification.index]\n",
    "print(clinical_classification.shape, data_classification.shape)\n",
    "print(clinical_classification.value_counts())"
   ],
   "outputs": [],
   "execution_count": null
  },
  {
   "cell_type": "code",
   "id": "5ee8719cd0a540bc",
   "metadata": {
    "scrolled": true
   },
   "source": [
    "# Classification on weighted data with different seeds\n",
    "seeds = np.random.randint(0, 1e9, 10)\n",
    "metrics_list = []\n",
    "misclassified_patients = []\n",
    "for seed_i in tqdm(seeds):\n",
    "    weighted_classification = classification_benchmark(\n",
    "        X_data=data_classification,\n",
    "        y_data=clinical_classification,\n",
    "        classification_type='weighted',\n",
    "        num_classes=num_classes,\n",
    "        seed=seed_i,\n",
    "        test_size=0.2,\n",
    "        n_br=100,\n",
    "        num_threads=112,\n",
    "        n_trials=100,\n",
    "        )\n",
    "    (model_weights, metrics_weights, y_test_le, y_pred_weights, data_weights, weighted_params) = weighted_classification\n",
    "    metrics_list.append(metrics_weights)\n",
    "    # Get patients wrongly predicted:\n",
    "    y_pred_labels_i = np.argmax(y_pred_weights, axis=1) # Convert y_pred_weights to predicted class labels\n",
    "    misclassified_indices_i = np.where(y_test_le != y_pred_labels_i)[0] # Find the indices of the misclassified patients\n",
    "    misclassified_patients_i = clinical_classification.index[misclassified_indices_i] # Get the misclassified patients\n",
    "    print(\"Misclassified patients:\", misclassified_patients_i.shape[0])\n",
    "    misclassified_patients.append(misclassified_patients_i)\n",
    "    # metrics_weights.to_csv(os.path.join(save_dir_i,f'metrics_weights_seed_{seed_i}.csv'))"
   ],
   "outputs": [],
   "execution_count": null
  },
  {
   "cell_type": "code",
   "id": "6b7500e3-658a-4c78-8b79-59814b07f6ab",
   "metadata": {},
   "source": [],
   "outputs": [],
   "execution_count": null
  },
  {
   "cell_type": "code",
   "id": "d64edb88e31925f0",
   "metadata": {},
   "source": [
    "# Plot mean of metrics\n",
    "metrics_list = np.array(metrics_list)\n",
    "mean_metrics = np.mean(metrics_list,axis=0)\n",
    "std_metrics = np.std(metrics_list,axis=0)\n",
    "legend_labels = metrics_weights.columns\n",
    "cmap = 'Pastel2'\n",
    "colors = colormaps[cmap](np.linspace(0, 1, 7))\n",
    "plt.figure(figsize=(9, 7))\n",
    "bp=plt.boxplot(metrics_list[:,0], labels=metrics_weights.columns, patch_artist=True)\n",
    "# Rotate the x-axis labels\n",
    "plt.xticks(rotation=45,fontsize=14)\n",
    "plt.yticks(fontsize=14)\n",
    "plt.ylim([0.,1.05])\n",
    "plt.xlabel('Score',fontsize=16)\n",
    "plt.title('Synthetic Group 3, Group 4, and G3-G4', fontsize=18)\n",
    "# Add legend\n",
    "# Create a legend\n",
    "# legend_labels = ['Accuracy', 'Balanced accuracy', 'F1 score', 'Precision', 'Recall', 'ROC AUC', 'PR AUC']\n",
    "# Set the colors\n",
    "for patch, color in zip(bp['boxes'], colors):\n",
    "    patch.set_facecolor(color)\n",
    "for median in bp['medians']:\n",
    "    median.set(color='navy', linewidth=2)\n",
    "# legend_handles = [mpatches.Patch(color=colors[i], label=legend_labels[i]) for i in range(len(legend_labels))]\n",
    "# plt.legend(handles=legend_handles, bbox_to_anchor=(1.05, 1), loc='upper left')\n",
    "# plt.savefig(os.path.join(save_dir_i,'groups_3_4_G3G4_synth_recspace_mean_metrics_boxplot.png'),bbox_inches='tight',dpi=600,format='png')\n",
    "# plt.savefig(os.path.join(save_dir_i,'groups_3_4_G3G4_synth_recspace_mean_metrics_boxplot.svg'),bbox_inches='tight',format='svg')\n",
    "# plt.savefig(os.path.join(save_dir_i,'groups_3_4_G3G4_synth_recspace_mean_metrics_boxplot.pdf'),bbox_inches='tight',format='pdf')\n",
    "plt.show()"
   ],
   "outputs": [],
   "execution_count": null
  },
  {
   "cell_type": "code",
   "id": "30693e85-7188-4f8b-97c1-728173d83ac2",
   "metadata": {},
   "source": [
    "all_missed_patients=[item for sublist in misclassified_patients for item in sublist]\n",
    "unique_missed_patients,count_missed_patients=np.unique(all_missed_patients,return_counts=True)\n",
    "df_missed=pd.Series(count_missed_patients,index=unique_missed_patients,name='Missclassified_Patients')\n",
    "df_missed.value_counts()"
   ],
   "outputs": [],
   "execution_count": null
  },
  {
   "cell_type": "code",
   "id": "b07a4573-a4be-4b46-8ad4-6ebbca9bbede",
   "metadata": {},
   "source": [
    "df_missed=clinical_classification[unique_missed_patients]\n",
    "df_missed.value_counts()"
   ],
   "outputs": [],
   "execution_count": null
  },
  {
   "cell_type": "code",
   "id": "1a8dbab8-59e3-4d27-a4d4-290b589cbb5c",
   "metadata": {},
   "source": [
    "clinical_missed = clinical_classification.copy()\n",
    "clinical_missed.loc[df_missed.index] = 'Misclassified'\n",
    "clinical_missed.value_counts()"
   ],
   "outputs": [],
   "execution_count": null
  },
  {
   "cell_type": "code",
   "id": "44cfb8d2-fc2a-4a30-b08c-49301b368b76",
   "metadata": {},
   "source": [
    "# Load kNN bootstrap results\n",
    "metadata_knn_bootstrap = pd.read_csv('data/processed/20241115_knn_bootstrap/metadata_after_bootstrap.csv',index_col=0)\n",
    "metadata_knn_bootstrap = metadata_knn_bootstrap.squeeze()\n",
    "metadata_knn_bootstrap.value_counts()"
   ],
   "outputs": [],
   "execution_count": null
  },
  {
   "cell_type": "code",
   "id": "faa7a970-56a9-4d21-bef7-77d7b0267035",
   "metadata": {},
   "source": [
    "# Load consensus clustering results\n",
    "metadata_consensus_clustering = pd.read_csv('data/processed/20241115_consensusclustering/results_real_space/km/metadata_changed_k3_to_k2.csv',index_col=0)\n",
    "metadata_consensus_clustering = metadata_consensus_clustering.squeeze()\n",
    "metadata_consensus_clustering.value_counts()"
   ],
   "outputs": [],
   "execution_count": null
  },
  {
   "cell_type": "code",
   "id": "cc324dd4-25be-4e40-8322-c6b874c4a780",
   "metadata": {},
   "source": [
    "# Contingency table between missclassified and kNN bootstrap\n",
    "cross_tab_missed_knn = pd.crosstab(clinical_missed, metadata_knn_bootstrap, margins=True,)\n",
    "cross_tab_missed_knn.index.name = None\n",
    "cross_tab_missed_knn"
   ],
   "outputs": [],
   "execution_count": null
  },
  {
   "cell_type": "code",
   "id": "bdbdbb4b-5c22-4ae9-923d-86a2ebf66222",
   "metadata": {},
   "source": [
    "# Contingency table between missclassified and kNN consensus clustering\n",
    "cross_tab_missed_consensus = pd.crosstab(clinical_missed, metadata_consensus_clustering, margins=True,)\n",
    "cross_tab_missed_consensus.index.name = None\n",
    "cross_tab_missed_consensus"
   ],
   "outputs": [],
   "execution_count": null
  },
  {
   "cell_type": "code",
   "id": "0954f355-6b34-4d0e-963b-c62614bf2830",
   "metadata": {},
   "source": [
    "save_path_missed='reports/figures/20241115_classification_original/misclassified'\n",
    "os.makedirs(save_path_missed,exist_ok=True)\n",
    "df_missed.to_csv(os.path.join(save_path_missed,'df_missed.csv'))\n",
    "clinical_missed.to_csv(os.path.join(save_path_missed,'clinical_missed.csv'))\n",
    "cross_tab_missed_knn.to_csv(os.path.join(save_path_missed,'cross_tab_missed_knn.csv'))\n",
    "cross_tab_missed_consensus.to_csv(os.path.join(save_path_missed,'cross_tab_missed_consensus.csv'))"
   ],
   "outputs": [],
   "execution_count": null
  },
  {
   "cell_type": "markdown",
   "id": "d6590b5da0082ef8",
   "metadata": {},
   "source": [
    "# Comparing Consensus Clustering and kNN bootstrap"
   ]
  },
  {
   "cell_type": "code",
   "id": "aa28ab9e6acb2fd8",
   "metadata": {},
   "source": [
    "import pandas as pd"
   ],
   "outputs": [],
   "execution_count": null
  },
  {
   "cell_type": "code",
   "id": "1c1fa6ccfc1f3317",
   "metadata": {},
   "source": [
    "# Load consensus clustering results\n",
    "metadata_consensus_clustering = pd.read_csv('data/processed/20241115_consensusclustering/results_real_space/km/metadata_changed_k3_to_k2.csv',index_col=0)\n",
    "metadata_consensus_clustering = metadata_consensus_clustering.squeeze()\n",
    "metadata_consensus_clustering.value_counts()"
   ],
   "outputs": [],
   "execution_count": null
  },
  {
   "cell_type": "code",
   "id": "a4888ffbd6a1aeb0",
   "metadata": {},
   "source": [
    "# Load consensus clustering results with preprocessed data\n",
    "metadata_consensus_clustering_preprocessed = pd.read_csv('data/processed/20241115_consensusclustering/results_preprocessed/km/metadata_changed_k3_to_k2.csv',index_col=0)\n",
    "metadata_consensus_clustering_preprocessed = metadata_consensus_clustering_preprocessed.squeeze()\n",
    "metadata_consensus_clustering_preprocessed.value_counts()"
   ],
   "outputs": [],
   "execution_count": null
  },
  {
   "cell_type": "code",
   "id": "a883d99e05c986d0",
   "metadata": {},
   "source": [
    "# Load kNN bootstrap results\n",
    "metadata_knn_bootstrap = pd.read_csv('data/processed/20241115_knn_bootstrap_preprocessed/metadata_after_bootstrap.csv',index_col=0)\n",
    "metadata_knn_bootstrap = metadata_knn_bootstrap.squeeze()\n",
    "metadata_knn_bootstrap.value_counts()"
   ],
   "outputs": [],
   "execution_count": null
  },
  {
   "cell_type": "code",
   "id": "1254e86164bafe14",
   "metadata": {},
   "source": [
    "# Contingency table between consensus clustering and kNN bootstrap\n",
    "cross_tab_consensus_knn = pd.crosstab(metadata_consensus_clustering, metadata_knn_bootstrap, margins=True)\n",
    "cross_tab_consensus_knn.index.name = None\n",
    "cross_tab_consensus_knn"
   ],
   "outputs": [],
   "execution_count": null
  },
  {
   "cell_type": "code",
   "id": "6438ebb0c310b749",
   "metadata": {},
   "source": [
    "# Preview export to latex:\n",
    "latex_table = cross_tab_consensus_knn.to_latex(escape=False,index=True)\n",
    "latex_table = latex_table.replace('Sample_characteristics_ch1', '\\\\diagbox{kNN}{CC}')\n",
    "print(latex_table)"
   ],
   "outputs": [],
   "execution_count": null
  },
  {
   "cell_type": "code",
   "id": "4f0f31cb04b95bd6",
   "metadata": {},
   "source": [
    "# Contingency table between consensus clustering with preprocessed data and kNN bootstrap\n",
    "cross_tab_consensus_knn_preprocessed = pd.crosstab(metadata_consensus_clustering_preprocessed, metadata_knn_bootstrap, margins=True)\n",
    "cross_tab_consensus_knn_preprocessed.index.name = None\n",
    "cross_tab_consensus_knn_preprocessed"
   ],
   "outputs": [],
   "execution_count": null
  },
  {
   "cell_type": "code",
   "id": "c41e24f63c6e10b5",
   "metadata": {},
   "source": [
    "# Preview export to latex:\n",
    "latex_table = cross_tab_consensus_knn_preprocessed.to_latex(escape=False,index=True)\n",
    "latex_table = latex_table.replace('Sample_characteristics_ch1', '\\\\diagbox{kNN}{CC prepro}')\n",
    "print(latex_table)"
   ],
   "outputs": [],
   "execution_count": null
  },
  {
   "cell_type": "markdown",
   "id": "632be4e8378cbedf",
   "metadata": {},
   "source": [
    "# Genes differentially expressed comparison with Northcott et al. 2019"
   ]
  },
  {
   "cell_type": "code",
   "id": "25153970d654bc2d",
   "metadata": {},
   "source": [
    "import os\n",
    "import pandas as pd\n",
    "from src.kruskalwallis_inbetween import plot_differential_genes"
   ],
   "outputs": [],
   "execution_count": null
  },
  {
   "cell_type": "code",
   "id": "6a86d3e905a4dadf",
   "metadata": {},
   "source": [
    "path_save_figs = 'reports/figures/20241115_kw/boxplot_augmented/synth_patients/northcott2019_genes'\n",
    "os.makedirs(path_save_figs, exist_ok=True)"
   ],
   "outputs": [],
   "execution_count": null
  },
  {
   "cell_type": "code",
   "id": "c5fa3e41c7146c8e",
   "metadata": {},
   "source": [
    "# Load gene correspondence from original data:\n",
    "gene_correspondence = pd.read_csv('data/raw/GEO/cavalli_gene_correspondence.csv', index_col=0)"
   ],
   "outputs": [],
   "execution_count": null
  },
  {
   "cell_type": "code",
   "id": "1adab9f4b055d16e",
   "metadata": {},
   "source": [
    "# Load augmented data\n",
    "data = pd.read_csv('data/interim/20241115_data_augmentation/real/augmented_data.csv', index_col=0) \n",
    "metadata = pd.read_csv('data/interim/20241115_data_augmentation/real/augmented_clinical.csv', index_col=0).squeeze()\n",
    "data.shape, metadata.shape"
   ],
   "outputs": [],
   "execution_count": null
  },
  {
   "cell_type": "code",
   "id": "331c9c966a7f0b6",
   "metadata": {},
   "source": [
    "# Select only synthetic patients\n",
    "data = data.loc[metadata[metadata.str.contains('synthetic')].index]\n",
    "metadata = metadata[metadata.str.contains('synthetic')].replace({'synthetic_Group 3':'Group3','synthetic_Group 4':'Group4','synthetic_G3-G4':'G3-G4'})\n",
    "data.shape, metadata.shape"
   ],
   "outputs": [],
   "execution_count": null
  },
  {
   "cell_type": "code",
   "id": "5f538f32180f6d79",
   "metadata": {},
   "source": [
    "# Load p_values\n",
    "p_values = pd.read_csv('data/processed/20241115_differentially_expressed_genes/synth_patients/p_values_dunn.csv', index_col=0)"
   ],
   "outputs": [],
   "execution_count": null
  },
  {
   "cell_type": "code",
   "id": "7401000e9c08bdf8",
   "metadata": {},
   "source": [
    "# Change column names from data, and indices from p_values, which are in ENSG format, to gene symbols:\n",
    "data.columns=gene_correspondence.loc[data.columns]['HGNC_symbol_from_ensemblv77'].to_list()\n",
    "p_values.index=gene_correspondence.loc[p_values.index]['HGNC_symbol_from_ensemblv77'].to_list()"
   ],
   "outputs": [],
   "execution_count": null
  },
  {
   "cell_type": "code",
   "id": "b1bb5f2571324531",
   "metadata": {},
   "source": [
    "# Get genes differentially expressed that coincide with Northcott et al. 2019\n",
    "northcott_genes = pd.read_csv('data/processed/20241115_genes_comparison/synth_patients/coincidences_with_northcott2019.csv', index_col=0)\n",
    "# Get unique genes as a list\n",
    "northcott_genes = [northcott_genes[j].dropna().to_list() for j in northcott_genes.columns]\n",
    "northcott_genes = [item for sublist in northcott_genes for item in sublist]\n",
    "northcott_genes = list(set(northcott_genes))\n",
    "northcott_genes"
   ],
   "outputs": [],
   "execution_count": null
  },
  {
   "cell_type": "code",
   "id": "9e5f2858bf3ade58",
   "metadata": {},
   "source": [
    "# Plot differential genes data,clinical,genes,p_values_df,path_boxplot\n",
    "plot_differential_genes(\n",
    "    data=data.T, \n",
    "    clinical=metadata.replace({'Group3':'Group 3','Group4':'Group 4'}), \n",
    "    genes=northcott_genes, \n",
    "    p_values_df=p_values,\n",
    "    path_boxplot=path_save_figs)"
   ],
   "outputs": [],
   "execution_count": null
  },
  {
   "cell_type": "markdown",
   "id": "2333816ac34663a3",
   "metadata": {},
   "source": [
    "# Genes differentially expressed comparison with Nunez-Carpintero et al. 2021"
   ]
  },
  {
   "cell_type": "code",
   "id": "6d920cff429461bc",
   "metadata": {},
   "source": [
    "import os\n",
    "import pandas as pd\n",
    "from src.kruskalwallis_inbetween import plot_differential_genes"
   ],
   "outputs": [],
   "execution_count": null
  },
  {
   "cell_type": "code",
   "id": "edfdc23caf627b66",
   "metadata": {},
   "source": [
    "path_save_figs = 'reports/figures/20241115_kw/boxplot_augmented/synth_patients/nunezcarpintero2021_genes'\n",
    "os.makedirs(path_save_figs, exist_ok=True)"
   ],
   "outputs": [],
   "execution_count": null
  },
  {
   "cell_type": "code",
   "id": "74ea3d33ad44c474",
   "metadata": {},
   "source": [
    "# Load gene correspondence from original data:\n",
    "gene_correspondence = pd.read_csv('data/raw/GEO/cavalli_gene_correspondence.csv', index_col=0)"
   ],
   "outputs": [],
   "execution_count": null
  },
  {
   "cell_type": "code",
   "id": "431a37a8b4cd2e51",
   "metadata": {},
   "source": [
    "# Load augmented data\n",
    "data = pd.read_csv('data/interim/20241115_data_augmentation/real/augmented_data.csv', index_col=0) \n",
    "metadata = pd.read_csv('data/interim/20241115_data_augmentation/real/augmented_clinical.csv', index_col=0).squeeze()\n",
    "data.shape, metadata.shape"
   ],
   "outputs": [],
   "execution_count": null
  },
  {
   "cell_type": "code",
   "id": "931eac1b34b91a28",
   "metadata": {},
   "source": [
    "# Select only synthetic patients\n",
    "data = data.loc[metadata[metadata.str.contains('synthetic')].index]\n",
    "metadata = metadata[metadata.str.contains('synthetic')].replace({'synthetic_Group 3':'Group3','synthetic_Group 4':'Group4','synthetic_G3-G4':'G3-G4'})\n",
    "data.shape, metadata.shape"
   ],
   "outputs": [],
   "execution_count": null
  },
  {
   "cell_type": "code",
   "id": "17da333b59ea730",
   "metadata": {},
   "source": [
    "metadata.value_counts()"
   ],
   "outputs": [],
   "execution_count": null
  },
  {
   "cell_type": "code",
   "id": "262b99e82a039c34",
   "metadata": {},
   "source": [
    "# Load p_values\n",
    "p_values = pd.read_csv('data/processed/20241115_differentially_expressed_genes/synth_patients/p_values_dunn.csv', index_col=0)"
   ],
   "outputs": [],
   "execution_count": null
  },
  {
   "cell_type": "code",
   "id": "dfc8de49dba2398a",
   "metadata": {},
   "source": [
    "# Change column names from data, and indices from p_values, which are in ENSG format, to gene symbols:\n",
    "data.columns=gene_correspondence.loc[data.columns]['HGNC_symbol_from_ensemblv77'].to_list()\n",
    "p_values.index=gene_correspondence.loc[p_values.index]['HGNC_symbol_from_ensemblv77'].to_list()"
   ],
   "outputs": [],
   "execution_count": null
  },
  {
   "cell_type": "code",
   "id": "22985833d5162d0c",
   "metadata": {},
   "source": [
    "# Get genes differentially expressed that coincide with Nunez-Carpintero et al. 2021\n",
    "nunez_genes = pd.read_csv('data/processed/20241115_genes_comparison/synth_patients/coincidences_with_external.csv', index_col=0)\n",
    "# Get unique genes as a list\n",
    "nunez_genes = set(nunez_genes['symbol'].to_list())\n",
    "nunez_genes"
   ],
   "outputs": [],
   "execution_count": null
  },
  {
   "cell_type": "code",
   "id": "86e8a16085930f54",
   "metadata": {},
   "source": [
    "p_values.loc['ST8SIA2', 'g3_g4'], p_values.loc['ST8SIA2', 'g3_transition'], p_values.loc['ST8SIA2', 'g4_transition']"
   ],
   "outputs": [],
   "execution_count": null
  },
  {
   "cell_type": "code",
   "id": "3e93d3fa2d3932ad",
   "metadata": {},
   "source": [
    "# Plot differential genes data,clinical,genes,p_values_df,path_boxplot\n",
    "plot_differential_genes(\n",
    "    data=data.T, \n",
    "    clinical=metadata.replace({'Group3':'Group 3','Group4':'Group 4'}), \n",
    "    genes=nunez_genes, \n",
    "    p_values_df=p_values,\n",
    "    path_boxplot=path_save_figs)"
   ],
   "outputs": [],
   "execution_count": null
  },
  {
   "cell_type": "markdown",
   "id": "ecf22ad963f65801",
   "metadata": {},
   "source": [
    "# Important genes from SHAP"
   ]
  },
  {
   "cell_type": "code",
   "id": "2211ea5fe758d350",
   "metadata": {},
   "source": [
    "import pandas as pd"
   ],
   "outputs": [],
   "execution_count": null
  },
  {
   "cell_type": "code",
   "id": "b27306446e3102",
   "metadata": {},
   "source": [
    "shap_genes = pd.read_csv('data/interim/20241115_shap/real_data/selected_genes.csv', index_col=0).squeeze()\n",
    "shap_genes.shape"
   ],
   "outputs": [],
   "execution_count": null
  },
  {
   "cell_type": "code",
   "id": "a0657477f134e912",
   "metadata": {},
   "source": [
    "gene_correspondence = pd.read_csv('data/raw/GEO/cavalli_gene_correspondence.csv', index_col=0)\n"
   ],
   "outputs": [],
   "execution_count": null
  },
  {
   "cell_type": "code",
   "id": "8c6cf11c24a3581a",
   "metadata": {},
   "source": [
    "shap_genes.head()"
   ],
   "outputs": [],
   "execution_count": null
  },
  {
   "cell_type": "code",
   "id": "fc8061896750858e",
   "metadata": {},
   "source": [
    "shap_genes_correspondence = gene_correspondence.loc[shap_genes]\n",
    "shap_genes_correspondence.shape"
   ],
   "outputs": [],
   "execution_count": null
  },
  {
   "cell_type": "code",
   "id": "77d40c3f1c090df6",
   "metadata": {},
   "source": [
    "shap_genes_correspondence.isna().sum()"
   ],
   "outputs": [],
   "execution_count": null
  },
  {
   "cell_type": "code",
   "id": "983c67daf18371e",
   "metadata": {},
   "source": [
    "shap_genes_correspondence.sort_values('HGNC_symbol_from_ensemblv77')"
   ],
   "outputs": [],
   "execution_count": null
  },
  {
   "cell_type": "code",
   "id": "4a1db55e3047752a",
   "metadata": {},
   "source": [
    "shap_genes_correspondence.sort_values('HGNC_symbol_from_ensemblv77')['HGNC_symbol_from_ensemblv77'].to_csv('data/processed/20241115_genes_comparison/synth_patients/important_genes_shap.csv')"
   ],
   "outputs": [],
   "execution_count": null
  },
  {
   "cell_type": "code",
   "id": "b200a8adc4ab2c38",
   "metadata": {},
   "source": [
    "# Get genes differentially expressed that coincide with Nunez-Carpintero et al. 2021\n",
    "nunez_genes = pd.read_csv('data/processed/20241115_genes_comparison/synth_patients/external_genes_equivalences.csv', index_col=0)\n",
    "# Get unique genes as a list\n",
    "# nunez_genes = set(nunez_genes['symbol'].to_list())\n",
    "nunez_genes['symbol']"
   ],
   "outputs": [],
   "execution_count": null
  },
  {
   "cell_type": "code",
   "id": "604591565fbbb6d8",
   "metadata": {},
   "source": [
    "coincidence_with_nunez=shap_genes_correspondence[shap_genes_correspondence['HGNC_symbol_from_ensemblv77'].isin(nunez_genes['symbol'])]\n",
    "coincidence_with_nunez"
   ],
   "outputs": [],
   "execution_count": null
  },
  {
   "cell_type": "code",
   "id": "ece6e7565346dd99",
   "metadata": {},
   "source": [
    "# Get genes differentially expressed that coincide with Northcott et al. 2019\n",
    "northcott_genes = pd.read_csv('data/processed/20241115_genes_comparison/synth_patients/important_genes_northcott2019.csv', index_col=0)\n",
    "# Get unique genes as a list\n",
    "northcott_genes = [northcott_genes[j].dropna().to_list() for j in northcott_genes.columns]\n",
    "northcott_genes = [item for sublist in northcott_genes for item in sublist]\n",
    "northcott_genes = list(set(northcott_genes))\n",
    "len(northcott_genes)"
   ],
   "outputs": [],
   "execution_count": null
  },
  {
   "cell_type": "code",
   "id": "99cb85717a37bffd",
   "metadata": {},
   "source": [
    "coincidence_with_northcott=shap_genes_correspondence[shap_genes_correspondence['HGNC_symbol_from_ensemblv77'].isin(northcott_genes)]\n",
    "coincidence_with_northcott"
   ],
   "outputs": [],
   "execution_count": null
  },
  {
   "cell_type": "code",
   "id": "74cb5ac3945727d2",
   "metadata": {},
   "source": [
    "shap_genes_correspondence['HGNC_symbol_from_ensemblv77'].isin(['MYC','SNCAIP']).sum()\n",
    "shap_genes_correspondence['HGNC_symbol_from_ensemblv77'].isin(['TP53']).sum()"
   ],
   "outputs": [],
   "execution_count": null
  },
  {
   "cell_type": "markdown",
   "id": "8b81bcf26679d109",
   "metadata": {},
   "source": [
    "# Genes differentially expressed: finding the corresponding symbols"
   ]
  },
  {
   "cell_type": "code",
   "id": "b3e6ae8edb652a73",
   "metadata": {},
   "source": [
    "import pandas as pd"
   ],
   "outputs": [],
   "execution_count": null
  },
  {
   "cell_type": "code",
   "id": "8d69da1b80b44c0f",
   "metadata": {},
   "source": [
    "# Load gene correspondence from original data:\n",
    "gene_correspondence = pd.read_csv('data/raw/GEO/cavalli_gene_correspondence.csv', index_col=0)\n",
    "gene_correspondence.shape"
   ],
   "outputs": [],
   "execution_count": null
  },
  {
   "cell_type": "code",
   "id": "b5fb0837c10b12aa",
   "metadata": {},
   "source": [
    "# Genes differentially expressed\n",
    "diff_genes = pd.read_csv('data/processed/20241115_differentially_expressed_genes/synth_patients/always_diff_genes.csv', index_col=0).squeeze()\n",
    "diff_genes.shape"
   ],
   "outputs": [],
   "execution_count": null
  },
  {
   "cell_type": "code",
   "id": "7ee86f3b60407eeb",
   "metadata": {},
   "source": [
    "diff_genes_correspondence=gene_correspondence.loc[diff_genes]\n",
    "diff_genes_correspondence.sort_values('HGNC_symbol_from_ensemblv77',inplace=True)\n",
    "diff_genes_correspondence.shape"
   ],
   "outputs": [],
   "execution_count": null
  },
  {
   "cell_type": "code",
   "id": "494e74acf6295df3",
   "metadata": {},
   "source": [
    "diff_genes_correspondence.isna().sum()"
   ],
   "outputs": [],
   "execution_count": null
  },
  {
   "metadata": {},
   "cell_type": "code",
   "source": [
    "# What are the missing data?\n",
    "diff_genes_correspondence[diff_genes_correspondence.isna().any(axis=1)]"
   ],
   "id": "bc36c34a3fa5f1fa",
   "outputs": [],
   "execution_count": null
  },
  {
   "metadata": {},
   "cell_type": "code",
   "source": "diff_genes_correspondence.head()",
   "id": "9af64d0b1bd420bd",
   "outputs": [],
   "execution_count": null
  },
  {
   "cell_type": "code",
   "id": "adb36b57da47c6a4",
   "metadata": {},
   "source": [
    "diff_genes_correspondence['HGNC_symbol_from_ensemblv77'].to_csv('data/processed/20241115_differentially_expressed_genes/synth_patients/always_diff_genes_correspondence.csv')"
   ],
   "outputs": [],
   "execution_count": null
  },
  {
   "metadata": {},
   "cell_type": "markdown",
   "source": "# Check genes with high rec error after postprocessing (checked with Wasserstein)",
   "id": "3544ee72dc9b2d15"
  },
  {
   "metadata": {},
   "cell_type": "code",
   "source": "import pandas as pd",
   "id": "bd08c049c3356256",
   "outputs": [],
   "execution_count": null
  },
  {
   "metadata": {},
   "cell_type": "code",
   "source": [
    "# Load gene correspondence from original data:\n",
    "gene_correspondence = pd.read_csv('data/raw/GEO/cavalli_gene_correspondence.csv', index_col=0)\n",
    "gene_correspondence.shape"
   ],
   "id": "3beb2c9fda0ad9d9",
   "outputs": [],
   "execution_count": null
  },
  {
   "metadata": {},
   "cell_type": "code",
   "source": [
    "genes_wasser = pd.read_csv('reports/figures/20241212_reconstruction_network_wasser/genes_above_1.csv',index_col=0).squeeze()\n",
    "genes_wasser"
   ],
   "id": "6fbdb624ac1335e8",
   "outputs": [],
   "execution_count": null
  },
  {
   "metadata": {},
   "cell_type": "code",
   "source": [
    "# Get corresponding symbols:\n",
    "wasser_genes_correspondence=gene_correspondence.loc[genes_wasser]\n",
    "wasser_genes_correspondence"
   ],
   "id": "868f678129b0c1c5",
   "outputs": [],
   "execution_count": null
  },
  {
   "metadata": {},
   "cell_type": "code",
   "source": [
    "# Are any of this among shap genes? and among differentially expressed genes?\n",
    "shap_genes = pd.read_csv('data/interim/20241115_shap/real_data/selected_genes.csv', index_col=0).squeeze()\n",
    "diff_genes = pd.read_csv('data/processed/20241115_differentially_expressed_genes/synth_patients/always_diff_genes.csv', index_col=0).squeeze()\n",
    "print(shap_genes.shape, diff_genes.shape)\n",
    "genes_wasser.isin(shap_genes).sum(), genes_wasser.isin(diff_genes).sum()"
   ],
   "id": "ddb93e807ae45694",
   "outputs": [],
   "execution_count": null
  }
 ],
 "metadata": {
  "kernelspec": {
   "display_name": "Python 3 (ipykernel)",
   "language": "python",
   "name": "python3"
  },
  "language_info": {
   "codemirror_mode": {
    "name": "ipython",
    "version": 3
   },
   "file_extension": ".py",
   "mimetype": "text/x-python",
   "name": "python",
   "nbconvert_exporter": "python",
   "pygments_lexer": "ipython3",
   "version": "3.12.1"
  },
  "toc": {
   "base_numbering": 1,
   "nav_menu": {},
   "number_sections": true,
   "sideBar": true,
   "skip_h1_title": false,
   "title_cell": "Table of Contents",
   "title_sidebar": "Contents",
   "toc_cell": false,
   "toc_position": {
    "height": "calc(100% - 180px)",
    "left": "10px",
    "top": "150px",
    "width": "373.188px"
   },
   "toc_section_display": true,
   "toc_window_display": true
  },
  "varInspector": {
   "cols": {
    "lenName": 16,
    "lenType": 16,
    "lenVar": 40
   },
   "kernels_config": {
    "python": {
     "delete_cmd_postfix": "",
     "delete_cmd_prefix": "del ",
     "library": "var_list.py",
     "varRefreshCmd": "print(var_dic_list())"
    },
    "r": {
     "delete_cmd_postfix": ") ",
     "delete_cmd_prefix": "rm(",
     "library": "var_list.r",
     "varRefreshCmd": "cat(var_dic_list()) "
    }
   },
   "types_to_exclude": [
    "module",
    "function",
    "builtin_function_or_method",
    "instance",
    "_Feature"
   ],
   "window_display": false
  }
 },
 "nbformat": 4,
 "nbformat_minor": 5
}
